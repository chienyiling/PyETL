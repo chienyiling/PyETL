{
 "cells": [
  {
   "cell_type": "markdown",
   "id": "9d0543ef",
   "metadata": {},
   "source": [
    "# 取出每頁的URL"
   ]
  },
  {
   "cell_type": "code",
   "execution_count": 9,
   "id": "d4eb32dc",
   "metadata": {},
   "outputs": [
    {
     "name": "stdout",
     "output_type": "stream",
     "text": [
      "19\n",
      "https://www.booking.com/searchresults.zh-tw.html?label=gen173nr-1FCAEoggI46AdIM1gEaOcBiAEBmAEwuAEXyAEM2AEB6AEB-AELiAIBqAIDuAKFr9WDBsACAdICJGY4NGQ0Mjc3LTM3NDItNDUyMS1iNjI5LTgxOWNmMzNmMDI5NtgCBuACAQ&sid=31ca1d2058fb8794bdd2374b7752bd7d&tmpl=searchresults&checkin_month=5&checkin_monthday=5&checkin_year=2021&checkout_month=5&checkout_monthday=6&checkout_year=2021&city=-2637868&class_interval=1&dest_id=-2637868&dest_type=city&dtdisc=0&from_sf=1&group_adults=2&group_children=0&inac=0&index_postcard=0&label_click=undef&no_rooms=1&postcard=0&room1=A%2CA&sb_price_type=total&shw_aparth=1&slp_r_match=0&src=searchresults&src_elem=sb&srpvid=af405f57cbe001ac&ss=%E5%8F%B0%E5%8D%97&ss_all=0&ssb=empty&sshis=0&ssne=%E5%8F%B0%E5%8D%97&ssne_untouched=%E5%8F%B0%E5%8D%97&top_ufis=1&rows=25\n",
      "https://www.booking.com/searchresults.zh-tw.html?label=gen173nr-1FCAEoggI46AdIM1gEaOcBiAEBmAEwuAEXyAEM2AEB6AEB-AELiAIBqAIDuAKFr9WDBsACAdICJGY4NGQ0Mjc3LTM3NDItNDUyMS1iNjI5LTgxOWNmMzNmMDI5NtgCBuACAQ&sid=dc8e3238ab47a8bf27ad3ee06dc6b52a&tmpl=searchresults&checkin_month=5&checkin_monthday=5&checkin_year=2021&checkout_month=5&checkout_monthday=6&checkout_year=2021&city=-2637868&class_interval=1&dest_id=-2637868&dest_type=city&dtdisc=0&from_sf=1&group_adults=2&group_children=0&inac=0&index_postcard=0&label_click=undef&no_rooms=1&postcard=0&raw_dest_type=city&room1=A%2CA&sb_price_type=total&shw_aparth=1&slp_r_match=0&src=searchresults&src_elem=sb&srpvid=cad45fec7e290461&ss=%E5%8F%B0%E5%8D%97&ss_all=0&ssb=empty&sshis=0&ssne=%E5%8F%B0%E5%8D%97&ssne_untouched=%E5%8F%B0%E5%8D%97&top_ufis=1&rows=25&offset=450\n",
      "執行時間：5.27138614654541 秒\n"
     ]
    }
   ],
   "source": [
    "from selenium.webdriver import Chrome\n",
    "from bs4 import BeautifulSoup\n",
    "import time\n",
    "\n",
    "start = time.time()\n",
    "\n",
    "pageList = list()\n",
    "\n",
    "# 抓前5頁\n",
    "url = 'https://www.booking.com/searchresults.zh-tw.html?label=gen173nr-1FCAEoggI46AdIM1gEaOcBiAEBmAEwuAEXyAEM2AEB6AEB-AELiAIBqAIDuAKFr9WDBsACAdICJGY4NGQ0Mjc3LTM3NDItNDUyMS1iNjI5LTgxOWNmMzNmMDI5NtgCBuACAQ&sid=61586155db74d37ff250cd9b30590f34&sb=1&src=searchresults&src_elem=sb&error_url=https%3A%2F%2Fwww.booking.com%2Fsearchresults.zh-tw.html%3Flabel%3Dgen173nr-1FCAEoggI46AdIM1gEaOcBiAEBmAEwuAEXyAEM2AEB6AEB-AELiAIBqAIDuAKFr9WDBsACAdICJGY4NGQ0Mjc3LTM3NDItNDUyMS1iNjI5LTgxOWNmMzNmMDI5NtgCBuACAQ%3Bsid%3D61586155db74d37ff250cd9b30590f34%3Btmpl%3Dsearchresults%3Bcheckin_month%3D7%3Bcheckin_monthday%3D12%3Bcheckin_year%3D2021%3Bcheckout_month%3D7%3Bcheckout_monthday%3D13%3Bcheckout_year%3D2021%3Bcity%3D-2637868%3Bclass_interval%3D1%3Bdest_id%3D-2637868%3Bdest_type%3Dcity%3Bdtdisc%3D0%3Bfrom_sf%3D1%3Bgroup_adults%3D2%3Bgroup_children%3D0%3Binac%3D0%3Bindex_postcard%3D0%3Blabel_click%3Dundef%3Bno_rooms%3D1%3Boffset%3D0%3Bpostcard%3D0%3Broom1%3DA%252CA%3Bsb_price_type%3Dtotal%3Bshw_aparth%3D1%3Bslp_r_match%3D0%3Bsrc%3Dsearchresults%3Bsrc_elem%3Dsb%3Bsrpvid%3D3f025d873c07003d%3Bss%3D%25E5%258F%25B0%25E5%258D%2597%3Bss_all%3D0%3Bssb%3Dempty%3Bsshis%3D0%3Bssne%3D%25E5%258F%25B0%25E5%258D%2597%3Bssne_untouched%3D%25E5%258F%25B0%25E5%258D%2597%3Btop_ufis%3D1%26%3B&ss=%E5%8F%B0%E5%8D%97&is_ski_area=0&ssne=%E5%8F%B0%E5%8D%97&ssne_untouched=%E5%8F%B0%E5%8D%97&city=-2637868&checkin_year=2021&checkin_month=5&checkin_monthday=5&checkout_year=2021&checkout_month=5&checkout_monthday=6&group_adults=2&group_children=0&no_rooms=1&from_sf=1'\n",
    "driver = Chrome('./chromedriver')\n",
    "driver.get(url)\n",
    "\n",
    "# 抓第1 ~ 5頁\n",
    "for page in range(1,6):\n",
    "    for link in driver.find_elements_by_xpath('//*[@id=\"search_results_table\"]/div[4]/nav/ul/li[2]/ul/li[{}]/a'.format(page)):\n",
    "        pageList.append(link.get_attribute('href'))\n",
    "driver.close()\n",
    "\n",
    "# 抓第6 ~ 16頁\n",
    "for page in range(6,17):\n",
    "    url = pageList[-1]\n",
    "    driver = Chrome('./chromedriver')\n",
    "    driver.get(url)\n",
    "      \n",
    "    for link in driver.find_elements_by_xpath('//*[@id=\"search_results_table\"]/div[4]/nav/ul/li[2]/ul/li[5]/a'):\n",
    "         pageList.append(link.get_attribute('href'))\n",
    "    driver.close()\n",
    "\n",
    "# 抓第17 ~ 19頁\n",
    "url = pageList[-1]\n",
    "driver = Chrome('./chromedriver')\n",
    "driver.get(url)\n",
    "\n",
    "for page in range(5,8):\n",
    "    for link in driver.find_elements_by_xpath('//*[@id=\"search_results_table\"]/div[4]/nav/ul/li[2]/ul/li[{}]/a'.format(page)):\n",
    "        pageList.append(link.get_attribute('href'))\n",
    "driver.close()\n",
    "\n",
    "print(len(pageList))\n",
    "print(pageList[0])\n",
    "print(pageList[-1])\n",
    "\n",
    "end = time.time()\n",
    "print('執行時間：{} 秒'.format(end - start))\n"
   ]
  },
  {
   "cell_type": "markdown",
   "id": "4481c10e",
   "metadata": {},
   "source": [
    "# 抓取每個飯店的連結"
   ]
  },
  {
   "cell_type": "code",
   "execution_count": 11,
   "id": "9a58ce33",
   "metadata": {
    "scrolled": true
   },
   "outputs": [
    {
     "name": "stdout",
     "output_type": "stream",
     "text": [
      "465\n",
      "https://www.booking.com/hotel/tw/4-design-inn.zh-tw.html?label=gen173nr-1FCAEoggI46AdIM1gEaOcBiAEBmAEwuAEXyAEM2AEB6AEB-AELiAIBqAIDuAKFr9WDBsACAdICJGY4NGQ0Mjc3LTM3NDItNDUyMS1iNjI5LTgxOWNmMzNmMDI5NtgCBuACAQ&sid=0dde20cf683355e46f6b5ef9e50a3005&all_sr_blocks=228994305_166617024_2_0_0&checkin=2021-05-05&checkout=2021-05-06&dest_id=-2637868&dest_type=city&group_adults=2&group_children=0&hapos=1&highlighted_blocks=228994305_166617024_2_0_0&hpos=1&no_rooms=1&sr_order=popularity&sr_pri_blocks=228994305_166617024_2_0_0__161400&srepoch=1619444445&srpvid=6eaa602e6aae01f2&ucfs=1&from=searchresults;highlight_room=#hotelTmpl\n",
      "執行時間：220.06467199325562 秒\n"
     ]
    }
   ],
   "source": [
    "from selenium.webdriver import Chrome\n",
    "from bs4 import BeautifulSoup\n",
    "import time\n",
    "\n",
    "#==============================================================================================================\n",
    "# 製作每個連結的LIST\n",
    "\n",
    "start = time.time()\n",
    "\n",
    "urlList = list()\n",
    "\n",
    "for eachpage in range(0,len(pageList)):\n",
    "    url = pageList[eachpage]\n",
    "    driver = Chrome('./chromedriver')\n",
    "    driver.get(url)\n",
    "\n",
    "    for i in range(1,30):\n",
    "        try:\n",
    "            for link in driver.find_elements_by_xpath('//*[@id=\"hotellist_inner\"]/div[{}]/div[2]/div[1]/div[1]/div[1]/h3/a'.format(i)):\n",
    "                urlList.append(link.get_attribute('href'))\n",
    "        except:\n",
    "            pass\n",
    "    driver.close()\n",
    "\n",
    "print(len(urlList))\n",
    "print(urlList[0])\n",
    "\n",
    "end = time.time()\n",
    "print('執行時間：{} 秒'.format(end - start))\n"
   ]
  },
  {
   "cell_type": "code",
   "execution_count": 12,
   "id": "351ade5d",
   "metadata": {},
   "outputs": [],
   "source": [
    "import json\n",
    "import os\n",
    "\n",
    "with open('./Booking-urlList.json', 'w', encoding='utf-8') as f:\n",
    "    json.dump(urlList, f)"
   ]
  },
  {
   "cell_type": "markdown",
   "id": "f286b987",
   "metadata": {},
   "source": [
    "# 抓取所需資料-試看板"
   ]
  },
  {
   "cell_type": "code",
   "execution_count": 2,
   "id": "f17567bc",
   "metadata": {
    "scrolled": true
   },
   "outputs": [
    {
     "name": "stdout",
     "output_type": "stream",
     "text": [
      "住宿名稱： 民宿 4 Design Inn\n",
      "住宿地址： 台南北區成功路120號9樓\n",
      "住宿評分： 8.4／10，共有441 則評語\n",
      "TWD 1,614\n",
      "==========================\n",
      "住宿名稱： 飯店 台南富信大飯店\n",
      "住宿地址： 台南北區成功路336號\n",
      "住宿評分： 8.9／10，共有2,280 則評語\n",
      "TWD 2,699\n",
      "==========================\n",
      "執行時間：19.696791887283325 秒\n"
     ]
    }
   ],
   "source": [
    "from selenium.webdriver import Chrome\n",
    "from bs4 import BeautifulSoup\n",
    "import time\n",
    "import json\n",
    "        \n",
    "#==============================================================================================================\n",
    "# 抓取內容\n",
    "\n",
    "urlList = list()\n",
    "with open('./Booking-urlList.json', 'r', encoding='utf-8') as f:\n",
    "    urlList = json.load(f)\n",
    "\n",
    "start = time.time()\n",
    "\n",
    "for Nurl in urlList[0:2]:    \n",
    "    driver = Chrome('./chromedriver')\n",
    "    driver.get(Nurl)\n",
    "\n",
    "    a = driver.find_element_by_class_name('hp__hotel-name').text\n",
    "    print('住宿名稱：',a)\n",
    "    b = driver.find_element_by_class_name('hp_address_subtitle').text\n",
    "    print('住宿地址：',b)\n",
    "    c = driver.find_element_by_class_name('bui-review-score__badge').text\n",
    "    d = driver.find_element_by_class_name('bui-review-score__text').text\n",
    "    print('住宿評分： {}／10，共有{}'.format(c,d))\n",
    "    f = driver.find_element_by_class_name('prco-f-font-heading').text\n",
    "    print(f) \n",
    "#     print('附近景點')\n",
    "    \n",
    "#     placeList = list()\n",
    "#     placeDisList = list()\n",
    "#     placeall = list()\n",
    "    \n",
    "#     e = driver.find_element_by_xpath('//*[@id=\"blockdisplay1\"]/div[2]').text.split('附近有什麼？\\n')[1].split('\\n餐廳 & 咖啡店')[0].split('\\n')\n",
    "    \n",
    "#     for place in range(0,len(e)):\n",
    "#         if place % 2 == 0:\n",
    "#             placeList.append(e[place])\n",
    "#         else:\n",
    "#             placeDisList.append(e[place])\n",
    "    \n",
    "#     for n in range(0,8):\n",
    "#         p = '{}：{}'.format(placeList[n],placeDisList[n])\n",
    "#         placeall.append(p)\n",
    "    \n",
    "#     print(placeall)\n",
    "    print('==========================')\n",
    "    driver.close()\n",
    "    \n",
    "end = time.time()\n",
    "print('執行時間：{} 秒'.format(end - start))\n",
    "\n"
   ]
  },
  {
   "cell_type": "markdown",
   "id": "0d2c12cf",
   "metadata": {},
   "source": [
    "# 抓取所需資料-最終版"
   ]
  },
  {
   "cell_type": "code",
   "execution_count": 3,
   "id": "c1527745",
   "metadata": {},
   "outputs": [
    {
     "name": "stdout",
     "output_type": "stream",
     "text": [
      "執行時間：4797.68622469902 秒\n",
      "5\n"
     ]
    }
   ],
   "source": [
    "from selenium.webdriver import Chrome\n",
    "from bs4 import BeautifulSoup\n",
    "import time\n",
    "import pandas as pd\n",
    "\n",
    "#==============================================================================================================\n",
    "# 抓取內容\n",
    "\n",
    "start = time.time()\n",
    "\n",
    "dataList = list()\n",
    "data = list()\n",
    "fdata = list()\n",
    "\n",
    "for Nurl in urlList:\n",
    "    try:\n",
    "        driver = Chrome('./chromedriver')\n",
    "        driver.get(Nurl)\n",
    "\n",
    "        data = list()\n",
    "\n",
    "        #名稱\n",
    "        a = driver.find_element_by_class_name('hp__hotel-name').text\n",
    "        if '\\n' in a:a = a.replace('\\n', ' ')\n",
    "        data.append(a)\n",
    "\n",
    "        #地址\n",
    "        b = driver.find_element_by_class_name('hp_address_subtitle').text\n",
    "        data.append(b)\n",
    "\n",
    "        #評分\n",
    "        try:\n",
    "            c = driver.find_element_by_class_name('bui-review-score__badge').text\n",
    "            data.append(c)\n",
    "        except:\n",
    "            data.append('暫無評分')\n",
    "\n",
    "        #評分人數\n",
    "        if data[-1] == '暫無評分':\n",
    "            data.append('暫無評分')\n",
    "        else:\n",
    "            d = driver.find_element_by_class_name('bui-review-score__text').text.split('則')[0]\n",
    "            data.append(d)\n",
    "\n",
    "        #價錢\n",
    "        f = driver.find_element_by_class_name('prco-f-font-heading').text\n",
    "        data.append(f)\n",
    "        \n",
    "        dataList.append(data)    \n",
    "    except:\n",
    "        fdata.append(Nurl)\n",
    "    finally:\n",
    "        driver.close()\n",
    "    \n",
    "end = time.time()\n",
    "print('執行時間：{} 秒'.format(end - start))\n",
    "\n",
    "print(len(fdata))\n"
   ]
  },
  {
   "cell_type": "markdown",
   "id": "2071fba4",
   "metadata": {},
   "source": [
    "# 將資料存檔"
   ]
  },
  {
   "cell_type": "code",
   "execution_count": 4,
   "id": "f007c750",
   "metadata": {},
   "outputs": [],
   "source": [
    "import json\n",
    "import os\n",
    "\n",
    "with open('./Booking-fdata.json', 'w', encoding='utf-8') as f:\n",
    "    json.dump(fdata, f)"
   ]
  },
  {
   "cell_type": "code",
   "execution_count": 32,
   "id": "ec423dfc",
   "metadata": {},
   "outputs": [],
   "source": [
    "import pandas as pd\n",
    "import xlsxwriter\n",
    "import json\n",
    "import os\n",
    "\n",
    "# josn\n",
    "\n",
    "with open('./Booking-dataList.json', 'w', encoding='utf-8') as f:\n",
    "    json.dump(dataList, f)\n",
    "    \n",
    "#==============================================================================================================   \n",
    "# # excle\n",
    "\n",
    "# columns = ['住宿名稱','住宿地址','住宿評分','評分筆數']   \n",
    "\n",
    "# addnum = 0\n",
    "       \n",
    "# for add in range(1,6):\n",
    "#     columns.append('附近景點{}'.format(add))\n",
    "    \n",
    "\n",
    "# df = pd.DataFrame(columns=columns,data=dataList)\n",
    "# df.to_excel('./Booking.xlsx',index=0,header=columns,encoding='utf-8-sig') \n",
    "\n"
   ]
  },
  {
   "cell_type": "markdown",
   "id": "ce5b003d",
   "metadata": {},
   "source": [
    "# 處理未存檔資料"
   ]
  },
  {
   "cell_type": "code",
   "execution_count": null,
   "id": "dcd91263",
   "metadata": {},
   "outputs": [],
   "source": [
    "#讀取未存檔網址資料\n",
    "\n",
    "fdata = list()\n",
    "with open('./Booking-fdata.json', 'r', encoding='utf-8') as f:\n",
    "    fdata = json.load(f)"
   ]
  },
  {
   "cell_type": "code",
   "execution_count": 24,
   "id": "a530784b",
   "metadata": {
    "scrolled": true
   },
   "outputs": [
    {
     "ename": "IndexError",
     "evalue": "list index out of range",
     "output_type": "error",
     "traceback": [
      "\u001b[1;31m---------------------------------------------------------------------------\u001b[0m",
      "\u001b[1;31mIndexError\u001b[0m                                Traceback (most recent call last)",
      "\u001b[1;32m<ipython-input-24-7feaf6d5ce38>\u001b[0m in \u001b[0;36m<module>\u001b[1;34m\u001b[0m\n\u001b[0;32m      5\u001b[0m \u001b[1;33m\u001b[0m\u001b[0m\n\u001b[0;32m      6\u001b[0m \u001b[0mdata\u001b[0m \u001b[1;33m=\u001b[0m \u001b[0mlist\u001b[0m\u001b[1;33m(\u001b[0m\u001b[1;33m)\u001b[0m\u001b[1;33m\u001b[0m\u001b[1;33m\u001b[0m\u001b[0m\n\u001b[1;32m----> 7\u001b[1;33m \u001b[0mfdataUrl\u001b[0m \u001b[1;33m=\u001b[0m \u001b[0mfdata\u001b[0m\u001b[1;33m[\u001b[0m\u001b[1;36m5\u001b[0m\u001b[1;33m]\u001b[0m\u001b[1;33m\u001b[0m\u001b[1;33m\u001b[0m\u001b[0m\n\u001b[0m\u001b[0;32m      8\u001b[0m \u001b[1;33m\u001b[0m\u001b[0m\n\u001b[0;32m      9\u001b[0m \u001b[1;33m\u001b[0m\u001b[0m\n",
      "\u001b[1;31mIndexError\u001b[0m: list index out of range"
     ]
    }
   ],
   "source": [
    "from selenium.webdriver import Chrome\n",
    "from bs4 import BeautifulSoup\n",
    "import time\n",
    "import pandas as pd\n",
    "\n",
    "data = list()\n",
    "fdataUrl = fdata[5]\n",
    "\n",
    "\n",
    "driver = Chrome('./chromedriver')\n",
    "driver.get(fdataUrl)\n",
    "\n",
    "print(fdataUrl)\n",
    "\n",
    "#名稱\n",
    "a = driver.find_element_by_class_name('hp__hotel-name').text\n",
    "if '\\n' in a:a = a.replace('\\n', ' ')\n",
    "data.append(a)\n",
    "\n",
    "#地址\n",
    "b = driver.find_element_by_class_name('hp_address_subtitle').text\n",
    "data.append(b)\n",
    "\n",
    "#評分\n",
    "try:\n",
    "    c = driver.find_element_by_class_name('bui-review-score__badge').text\n",
    "    data.append(c)\n",
    "except:\n",
    "    data.append('暫無評分')\n",
    "\n",
    "#評分人數\n",
    "if data[-1] == '暫無評分':\n",
    "    data.append('暫無評分')\n",
    "else:\n",
    "    d = driver.find_element_by_class_name('bui-review-score__text').text.split('則')[0]\n",
    "    data.append(d)\n",
    "\n",
    "#價錢\n",
    "try:\n",
    "    f = driver.find_element_by_class_name('prco-f-font-heading').text\n",
    "    data.append(f)\n",
    "except:\n",
    "    f = driver.find_element_by_class_name('availability_price').text\n",
    "    yy = f.split(' ')[2] + ' ' + f.split(' ')[3] \n",
    "    data.append(yy)\n",
    "\n",
    "\n",
    "\n",
    "driver.close()\n",
    "\n",
    "print(data)\n"
   ]
  },
  {
   "cell_type": "code",
   "execution_count": 31,
   "id": "855aac1f",
   "metadata": {},
   "outputs": [
    {
     "name": "stdout",
     "output_type": "stream",
     "text": [
      "463\n",
      "['民宿 小北家 - 台南老屋包棟民宿', '台南中西區和平街57號', '9.7', '181 ', 'TWD 2,980']\n"
     ]
    }
   ],
   "source": [
    "# 整理完未存檔資料後 存檔\n",
    "# 讀取已存檔資料\n",
    "\n",
    "# dataList = list()\n",
    "# with open('./Booking-dataList.json', 'r', encoding='utf-8') as f:\n",
    "#     dataList = json.load(f)\n",
    "\n",
    "print(len(dataList))\n",
    "\n",
    "print(dataList[-2])\n",
    "\n",
    "# dataList.append(data)   \n",
    "\n",
    "# print(len(dataList))\n",
    "\n"
   ]
  },
  {
   "cell_type": "code",
   "execution_count": null,
   "id": "0ba56c34",
   "metadata": {},
   "outputs": [],
   "source": []
  }
 ],
 "metadata": {
  "kernelspec": {
   "display_name": "Python 3",
   "language": "python",
   "name": "python3"
  },
  "language_info": {
   "codemirror_mode": {
    "name": "ipython",
    "version": 3
   },
   "file_extension": ".py",
   "mimetype": "text/x-python",
   "name": "python",
   "nbconvert_exporter": "python",
   "pygments_lexer": "ipython3",
   "version": "3.6.8"
  }
 },
 "nbformat": 4,
 "nbformat_minor": 5
}
