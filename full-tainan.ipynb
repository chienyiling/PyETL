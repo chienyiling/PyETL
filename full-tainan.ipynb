{
 "cells": [
  {
   "cell_type": "markdown",
   "id": "99ab4a18",
   "metadata": {},
   "source": [
    "# 匯入"
   ]
  },
  {
   "cell_type": "code",
   "execution_count": 1,
   "id": "vocal-mitchell",
   "metadata": {},
   "outputs": [],
   "source": [
    "from selenium.webdriver import Chrome\n",
    "import json"
   ]
  },
  {
   "cell_type": "markdown",
   "id": "6909386a",
   "metadata": {},
   "source": [
    "# 製作每個連結的LIST"
   ]
  },
  {
   "cell_type": "code",
   "execution_count": 2,
   "id": "a25fe6fa",
   "metadata": {},
   "outputs": [
    {
     "name": "stdout",
     "output_type": "stream",
     "text": [
      "0 []\n"
     ]
    }
   ],
   "source": [
    "#==============================================================================================================\n",
    "# 製作每個連結的LIST\n",
    "\n",
    "urlList = list()\n",
    "# for page in range(1,3):\n",
    "page = 1\n",
    "url = 'https://fullfenblog.tw/category/taiwan-entertainment/tainan/page/{}/'.format(page)\n",
    "\n",
    "driver = Chrome('./chromedriver')\n",
    "driver.get(url)\n",
    "\n",
    "for i in range(1,5):\n",
    "    for link in driver.find_elements_by_xpath('/html/body/div[4]/div[1]/section/div/article[{}]/header/h1/a'.format(i)):\n",
    "        urlList.append(link.get_attribute('href'))\n",
    "driver.close()\n",
    "print(len(urlList),urlList)"
   ]
  },
  {
   "cell_type": "markdown",
   "id": "5df8ab86",
   "metadata": {},
   "source": [
    "# 抓取資料"
   ]
  },
  {
   "cell_type": "code",
   "execution_count": 5,
   "id": "broke-viking",
   "metadata": {},
   "outputs": [
    {
     "name": "stdout",
     "output_type": "stream",
     "text": [
      "台鉅美妝觀光工廠\n",
      "台南市仁德區中正路三段589號\n",
      "8:00~17:00\n",
      "免門票\n",
      "柳營八老爺牧場\n",
      "台南市柳營區八翁里93-139號\n",
      "10:00~17:00 (週一公休)\n",
      "$80/人\n"
     ]
    }
   ],
   "source": [
    "#===============================================================================================================\n",
    "# 抓取資料\n",
    "\n",
    "for Nurl in urlList:\n",
    "    driver = Chrome('./chromedriver')\n",
    "    driver.get(Nurl)\n",
    "\n",
    "    a = driver.find_element_by_class_name('page-single').text\n",
    "    anew = a.split('⊙景點資訊⊙\\n')[1].split('➤')[0]\n",
    "    print(anew.split('\\n')[0])\n",
    "\n",
    "    for num in range(1,10):\n",
    "        if anew.split('\\n')[num].split('：')[0] == '✦完整地址':\n",
    "            print(anew.split('\\n')[num].split('：')[1])\n",
    "        elif anew.split('\\n')[num].split('：')[0] == '✦營業時間':\n",
    "            print(anew.split('\\n')[num].split('：')[1])\n",
    "        elif anew.split('\\n')[num].split('：')[0] == '✦門票資訊':\n",
    "            print(anew.split('\\n')[num].split('：')[1])\n",
    "        else:\n",
    "            continue\n",
    "           \n",
    "    driver.close()"
   ]
  },
  {
   "cell_type": "code",
   "execution_count": 6,
   "id": "b6b0b710",
   "metadata": {},
   "outputs": [
    {
     "name": "stdout",
     "output_type": "stream",
     "text": [
      "[{'景點名稱': '台鉅美妝觀光工廠', '完整地址': '台南市仁德區中正路三段589號', '營業時間': '8:00~17:00', '門票資訊': '免門票'}, {'景點名稱': '柳營八老爺牧場', '完整地址': '台南市柳營區八翁里93-139號', '營業時間': '10:00~17:00 (週一公休)', '門票資訊': '$80/人'}]\n"
     ]
    }
   ],
   "source": [
    "#===============================================================================================================\n",
    "# 轉成 dict\n",
    "\n",
    "dataList = list()\n",
    "data = dict()\n",
    "\n",
    "for Nurl in urlList:\n",
    "    driver = Chrome('./chromedriver')\n",
    "    driver.get(Nurl)\n",
    "\n",
    "    a = driver.find_element_by_class_name('page-single').text\n",
    "    anew = a.split('⊙景點資訊⊙\\n')[1].split('➤')[0]\n",
    "    data['景點名稱'] = anew.split('\\n')[0]\n",
    "\n",
    "    for num in range(1,10):\n",
    "        if anew.split('\\n')[num].split('：')[0] == '✦完整地址':\n",
    "            data['完整地址'] = anew.split('\\n')[num].split('：')[1]\n",
    "        elif anew.split('\\n')[num].split('：')[0] == '✦營業時間':\n",
    "            data['營業時間'] = anew.split('\\n')[num].split('：')[1]\n",
    "        elif anew.split('\\n')[num].split('：')[0] == '✦門票資訊':\n",
    "            data['門票資訊'] = anew.split('\\n')[num].split('：')[1]\n",
    "        else:\n",
    "            continue\n",
    "            \n",
    "    dataList.append(data)\n",
    "    data = dict()\n",
    "    driver.close()\n",
    "\n",
    "print(dataList)"
   ]
  },
  {
   "cell_type": "code",
   "execution_count": null,
   "id": "450fe8ee",
   "metadata": {},
   "outputs": [],
   "source": [
    "len(dataList)"
   ]
  },
  {
   "cell_type": "markdown",
   "id": "32807f43",
   "metadata": {},
   "source": [
    "# 轉Json檔案"
   ]
  },
  {
   "cell_type": "code",
   "execution_count": 7,
   "id": "ea4f7ab7",
   "metadata": {},
   "outputs": [],
   "source": [
    "#===============================================================================================================\n",
    "# 儲存為 Json\n",
    "\n",
    "# data = [{'a': 100, 'b': 1000, 'c': 10000},{'a': 100, 'b': 1000, 'c': 10000}]\n",
    "with open('./Data/data.json', 'w', encoding='utf-8') as f:\n",
    "    json.dump(dataList, f)"
   ]
  },
  {
   "cell_type": "code",
   "execution_count": 9,
   "id": "dd81e5cc",
   "metadata": {},
   "outputs": [
    {
     "name": "stdout",
     "output_type": "stream",
     "text": [
      "[{'景點名稱': '台鉅美妝觀光工廠', '完整地址': '台南市仁德區中正路三段589號', '營業時間': '8:00~17:00', '門票資訊': '免門票'}, {'景點名稱': '柳營八老爺牧場', '完整地址': '台南市柳營區八翁里93-139號', '營業時間': '10:00~17:00 (週一公休)', '門票資訊': '$80/人'}]\n"
     ]
    }
   ],
   "source": [
    "#===============================================================================================================\n",
    "# 讀取 Json\n",
    "\n",
    "with open('./Data/data.json', 'r', encoding='utf-8') as f:\n",
    "    output = json.load(f)\n",
    "print(output)"
   ]
  },
  {
   "cell_type": "markdown",
   "id": "bf551b67",
   "metadata": {},
   "source": [
    "# 合併結果"
   ]
  },
  {
   "cell_type": "code",
   "execution_count": 1,
   "id": "e29d6668",
   "metadata": {},
   "outputs": [
    {
     "name": "stdout",
     "output_type": "stream",
     "text": [
      "11\n"
     ]
    }
   ],
   "source": [
    "from selenium.webdriver import Chrome\n",
    "import json\n",
    "import os\n",
    "\n",
    "#==============================================================================================================\n",
    "# 製作每個連結的LIST\n",
    "urlList = list()\n",
    "for page in range(1,11):\n",
    "    url = 'https://fullfenblog.tw/category/taiwan-entertainment/tainan/page/{}/'.format(page)\n",
    "\n",
    "    driver = Chrome('./chromedriver')\n",
    "    driver.get(url)\n",
    "    \n",
    "    for i in range(1,20):\n",
    "        try:\n",
    "            for link in driver.find_elements_by_xpath('/html/body/div[4]/div[1]/section/div/article[{}]/header/h1/a'.format(i)):\n",
    "                urlList.append(link.get_attribute('href'))\n",
    "        except:\n",
    "            pass\n",
    "    driver.close()\n",
    "\n",
    "#===============================================================================================================\n",
    "# 轉成 dict\n",
    "\n",
    "dataList = list()\n",
    "data = dict()\n",
    "\n",
    "for Nurl in urlList:\n",
    "    try:\n",
    "        driver = Chrome('./chromedriver')\n",
    "        driver.get(Nurl)\n",
    "\n",
    "        a = driver.find_element_by_class_name('page-single').text\n",
    "        anew = a.split('⊙景點資訊⊙\\n')[1].split('➤')[0]\n",
    "        data['景點名稱'] = anew.split('\\n')[0]\n",
    "\n",
    "\n",
    "        for num in range(1,10):\n",
    "            if anew.split('\\n')[num].split('：')[0] == '✦完整地址':\n",
    "                data['完整地址'] = anew.split('\\n')[num].split('：')[1]\n",
    "\n",
    "            if anew.split('\\n')[num].split('：')[0] == '✦營業時間':\n",
    "                data['營業時間'] = anew.split('\\n')[num].split('：')[1]\n",
    "\n",
    "            if anew.split('\\n')[num].split('：')[0] == '✦門票資訊':\n",
    "                data['門票資訊'] = anew.split('\\n')[num].split('：')[1]\n",
    "\n",
    "        dataList.append(data)\n",
    "        data = dict()\n",
    "        driver.close()\n",
    "    except:\n",
    "        driver.close()\n",
    "        data = dict()\n",
    "        pass\n",
    "\n",
    "#===============================================================================================================\n",
    "# 儲存為 Json\n",
    "\n",
    "folderName = './Data/' \n",
    "if not os.path.exists(folderName): #檢查是否存在\n",
    "    os.mkdir(folderName)\n",
    "    \n",
    "with open('./Data/data-full-tainan.json', 'w', encoding='utf-8') as f:\n",
    "    json.dump(dataList, f)\n",
    "    \n",
    "print(len(dataList))"
   ]
  },
  {
   "cell_type": "code",
   "execution_count": 10,
   "id": "a50e72a1",
   "metadata": {},
   "outputs": [
    {
     "name": "stdout",
     "output_type": "stream",
     "text": [
      "[{'景點名稱': '台鉅美妝觀光工廠', '完整地址': '台南市仁德區中正路三段589號', '營業時間': '8:00~17:00', '門票資訊': '免門票'}, {'景點名稱': '柳營八老爺牧場', '完整地址': '台南市柳營區八翁里93-139號', '營業時間': '10:00~17:00 (週一公休)', '門票資訊': '$80/人'}, {'景點名稱': '麻豆代天府', '完整地址': '台南市麻豆區關帝廟60號', '營業時間': '8:00 ~ 21:00', '門票資訊': '無/參觀天堂和十八地獄門票$40/館'}, {'景點名稱': '綠能科技示範場域', '完整地址': '台南市歸仁區高發二路360號', '營業時間': '8:00 ~ 17:00(週六日休)', '門票資訊': '無'}, {'景點名稱': '烏山頭水庫', '完整地址': '台南市官田區嘉南68-2號', '營業時間': '8:00 ~ 17:30', '門票資訊': '$100人/親水公園開放$200/人'}, {'景點名稱': '頑皮世界野生動物園', '完整地址': '台南市學甲區三慶里6鄰頂洲75-25號', '營業時間': '9:00 ~ 17:00', '門票資訊': '$480/人(線上優惠門票)'}, {'景點名稱': '台南奇美博館', '完整地址': '臺南市仁德區文華路二段66號', '營業時間': '9:30~17:30', '門票資訊': '戶外園區免費，常設展$200/人'}, {'景點名稱': '沈園南亭曲水流觴|深緣及水文化園區', '完整地址': '台南市善化區溪美里228號', '營業時間': '週二至週日11:00～19:30', '門票資訊': '200/人'}, {'景點名稱': '深緣及水善糖文化園區|善化糖廠', '完整地址': '台南市善化區溪美里228號', '營業時間': '9:00~20:30', '門票資訊': '無'}, {'景點名稱': '國立故宮博物院-南部院區(故宮南院)'}, {'景點名稱': '★台南學甲紅藜花海&蜀葵花'}]\n"
     ]
    }
   ],
   "source": [
    "with open('./Data/data-full-tainan.json', 'r', encoding='utf-8') as f:\n",
    "    output = json.load(f)\n",
    "print(output)"
   ]
  },
  {
   "cell_type": "code",
   "execution_count": null,
   "id": "67615fd9",
   "metadata": {},
   "outputs": [],
   "source": []
  }
 ],
 "metadata": {
  "kernelspec": {
   "display_name": "Python 3",
   "language": "python",
   "name": "python3"
  },
  "language_info": {
   "codemirror_mode": {
    "name": "ipython",
    "version": 3
   },
   "file_extension": ".py",
   "mimetype": "text/x-python",
   "name": "python",
   "nbconvert_exporter": "python",
   "pygments_lexer": "ipython3",
   "version": "3.6.8"
  }
 },
 "nbformat": 4,
 "nbformat_minor": 5
}
