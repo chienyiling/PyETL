{
 "cells": [
  {
   "cell_type": "code",
   "execution_count": 1,
   "id": "1af8a62f",
   "metadata": {},
   "outputs": [],
   "source": [
    "import requests\n",
    "from bs4 import BeautifulSoup\n",
    "import json\n",
    "\n",
    "import pandas as pd"
   ]
  },
  {
   "cell_type": "markdown",
   "id": "500e89a9",
   "metadata": {},
   "source": [
    "# 取景點網址"
   ]
  },
  {
   "cell_type": "code",
   "execution_count": 10,
   "id": "14daa288",
   "metadata": {},
   "outputs": [],
   "source": [
    "PageUrl = []\n",
    "url ='https://www.twtainan.net/zh-tw/attractions'\n",
    "headers = {\n",
    "    'User-Agent':'Mozilla/5.0 (Windows NT 10.0; Win64; x64) AppleWebKit/537.36 (KHTML, like Gecko) Chrome/89.0.4389.82 Safari/537.36'\n",
    "}\n",
    "for page in range(46):\n",
    "    res = requests.get(url, headers=headers)\n",
    "    html = res.text\n",
    "    soup = BeautifulSoup(html,'html.parser') #指定轉換器\n",
    "\n",
    "    for pa in range(len(soup.select('div[class=\"info-card-item\"]'))):\n",
    "        eachpage = 'https://www.twtainan.net'+soup.select('div[class=\"info-card-item\"]')[pa].select('a[class=\"link\"]')[0]['href']\n",
    "        PageUrl.append(eachpage)\n",
    "        \n",
    "    if page != 45:\n",
    "        url = 'https://www.twtainan.net'+soup.select('div[class=\"blk next-blk\"]')[0].select('a[class=\"next-page\"]')[0]['href']\n"
   ]
  },
  {
   "cell_type": "code",
   "execution_count": 46,
   "id": "e422e634",
   "metadata": {},
   "outputs": [],
   "source": [
    "with open('./Url.json','w',encoding='utf-8') as f:\n",
    "    json.dump(PageUrl,f)"
   ]
  },
  {
   "cell_type": "code",
   "execution_count": 45,
   "id": "4ae8c5e3",
   "metadata": {},
   "outputs": [],
   "source": [
    "with open('./Url.json','r',encoding='utf-8') as f:\n",
    "    PageUrl = json.load(f)  "
   ]
  },
  {
   "cell_type": "markdown",
   "id": "d2051d90",
   "metadata": {},
   "source": [
    "# 建立表格"
   ]
  },
  {
   "cell_type": "code",
   "execution_count": 28,
   "id": "b0d9fc2d",
   "metadata": {},
   "outputs": [
    {
     "data": {
      "text/html": [
       "<div>\n",
       "<style scoped>\n",
       "    .dataframe tbody tr th:only-of-type {\n",
       "        vertical-align: middle;\n",
       "    }\n",
       "\n",
       "    .dataframe tbody tr th {\n",
       "        vertical-align: top;\n",
       "    }\n",
       "\n",
       "    .dataframe thead th {\n",
       "        text-align: right;\n",
       "    }\n",
       "</style>\n",
       "<table border=\"1\" class=\"dataframe\">\n",
       "  <thead>\n",
       "    <tr style=\"text-align: right;\">\n",
       "      <th></th>\n",
       "      <th>景點名稱</th>\n",
       "      <th>景點評分</th>\n",
       "      <th>觀看人數</th>\n",
       "      <th>景點介紹</th>\n",
       "      <th>景點地址</th>\n",
       "      <th>景點評論</th>\n",
       "      <th>景點圖片</th>\n",
       "    </tr>\n",
       "  </thead>\n",
       "  <tbody>\n",
       "  </tbody>\n",
       "</table>\n",
       "</div>"
      ],
      "text/plain": [
       "Empty DataFrame\n",
       "Columns: [景點名稱, 景點評分, 觀看人數, 景點介紹, 景點地址, 景點評論, 景點圖片]\n",
       "Index: []"
      ]
     },
     "execution_count": 28,
     "metadata": {},
     "output_type": "execute_result"
    }
   ],
   "source": [
    "columns = ['景點名稱','景點評分','觀看人數','景點介紹','景點地址','景點評論','景點圖片']\n",
    "df = pd.DataFrame(columns=columns)\n",
    "df"
   ]
  },
  {
   "cell_type": "code",
   "execution_count": 40,
   "id": "61a8b234",
   "metadata": {},
   "outputs": [
    {
     "name": "stdout",
     "output_type": "stream",
     "text": [
      "107\n",
      "https://www.twtainan.net/zh-tw/attractions/detail/688\n",
      "538\n",
      "https://www.twtainan.net/zh-tw/attractions/detail/6001\n"
     ]
    }
   ],
   "source": [
    "for n,i in enumerate(PageUrl):\n",
    "    try:\n",
    "        RowData = []\n",
    "        url = i\n",
    "        headers = {'User-Agent':'Mozilla/5.0 (Windows NT 10.0; Win64; x64) AppleWebKit/537.36 (KHTML, like Gecko) Chrome/89.0.4389.82 Safari/537.36'}\n",
    "        res = requests.get(url, headers=headers)\n",
    "        html = res.text\n",
    "        soup = BeautifulSoup(html,'html.parser')\n",
    "\n",
    "        # 名子\n",
    "        aa = soup.select('h2[class=\"unit-title\"]')[0].text\n",
    "        RowData.append(aa)\n",
    "\n",
    "        # 評分\n",
    "        try:\n",
    "            bb = soup.select('a[class=\"h-3 d-inline-flex align-items-center fz-14px text-warning text-decoration-none mb-1\"]')[0].text\n",
    "            RowData.append(bb.strip('\\n').strip('\\t').strip('\\n'))\n",
    "        except:\n",
    "            RowData.append(0)\n",
    "\n",
    "        # 觀看數\n",
    "        try:\n",
    "            cc = soup.select('p[class=\"info icon-view\"]')[0].text\n",
    "            RowData.append(cc)\n",
    "        except:\n",
    "            RowData.append(0)\n",
    "\n",
    "        # 介紹\n",
    "        dd = soup.select('div[class=\"manual-script-blk\"]')[0].text\n",
    "        RowData.append(dd)\n",
    "\n",
    "        # 地址\n",
    "        ee = soup.select('a[class=\"btn-location\"]')[0]['title']\n",
    "        RowData.append(ee)\n",
    "\n",
    "\n",
    "        # 評論\n",
    "        Dis = []\n",
    "        for i in range(5):\n",
    "            try:\n",
    "                Dis.append(soup.select('p[class=\"highlight\"]')[i].text)\n",
    "                Y = '。'.join(Dis)\n",
    "            except:\n",
    "                pass\n",
    "        RowData.append(Y)\n",
    "\n",
    "        # 圖片\n",
    "        ff = 'https://www.twtainan.net'+soup.select('a[class=\"js-photoswipe-item link\"]')[0]['href']\n",
    "        RowData.append(ff)\n",
    "\n",
    "        df.loc[n] = RowData\n",
    "    except:\n",
    "        print(n)\n",
    "        print(i)"
   ]
  },
  {
   "cell_type": "code",
   "execution_count": 51,
   "id": "dfc32fbe",
   "metadata": {},
   "outputs": [],
   "source": [
    "df.to_excel('./Data.xlsx',index=0,header=columns,encoding='utf-8-sig') "
   ]
  },
  {
   "cell_type": "code",
   "execution_count": null,
   "id": "105c5410",
   "metadata": {},
   "outputs": [],
   "source": [
    "import requests\n",
    "from bs4 import BeautifulSoup\n",
    "\n",
    "url ='https://www.twtainan.net/zh-tw/attractions'\n",
    "headers = {\n",
    "    'User-Agent':'Mozilla/5.0 (Windows NT 10.0; Win64; x64) AppleWebKit/537.36 (KHTML, like Gecko) Chrome/89.0.4389.82 Safari/537.36'\n",
    "}\n",
    "\n",
    "for i in range(0,2):\n",
    "    res = requests.get(url, headers=headers)\n",
    "    html = res.text\n",
    "\n",
    "    soup = BeautifulSoup(html,'html.parser') #指定轉換器\n",
    "\n",
    "    titleSoupList = soup.select('div.title')\n",
    "    #print(titleSoupList)\n",
    "\n",
    "    for titleSoup in titleSoupList:\n",
    "        try:\n",
    "            title = titleSoup.select('a')[0].text #將list裡的資料分別取出\n",
    "            articleUrl = 'https://www.ptt.cc'+titleSoup.select('a')[0]['href']\n",
    "            print(title)\n",
    "            print(articleUrl)\n",
    "        except IndexError as e: \n",
    "            print(e)\n",
    "            print(titleSoup)\n",
    "        print()\n",
    "\n",
    "    newUrl = 'https://www.ptt.cc'+soup.select('a[class=\"btn wide\"]')[1]['href'] #抓取'下一頁'\n",
    "    url = newUrl"
   ]
  }
 ],
 "metadata": {
  "kernelspec": {
   "display_name": "Python 3",
   "language": "python",
   "name": "python3"
  },
  "language_info": {
   "codemirror_mode": {
    "name": "ipython",
    "version": 3
   },
   "file_extension": ".py",
   "mimetype": "text/x-python",
   "name": "python",
   "nbconvert_exporter": "python",
   "pygments_lexer": "ipython3",
   "version": "3.6.8"
  }
 },
 "nbformat": 4,
 "nbformat_minor": 5
}
